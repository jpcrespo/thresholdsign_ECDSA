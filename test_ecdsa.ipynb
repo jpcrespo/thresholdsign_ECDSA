{
 "cells": [
  {
   "cell_type": "code",
   "execution_count": 5,
   "metadata": {},
   "outputs": [
    {
     "name": "stdout",
     "output_type": "stream",
     "text": [
      "62971298242950415662486979275162298594154135681004836692467839909933090737920\n"
     ]
    },
    {
     "data": {
      "text/plain": [
       "S256Point(028d003eab2e428d11983f3e97c3fa0addf3b42740df0d211795ffb3be2f6c52, 0ae987b9ec6ea159c78cb2a937ed89096fb218d9e7594f02b547526d8cd309e2)"
      ]
     },
     "execution_count": 5,
     "metadata": {},
     "output_type": "execute_result"
    }
   ],
   "source": [
    "from app.ecdsa import *\n",
    "\n",
    "\n",
    "\n",
    "# private key generating Brainwallet\n",
    "e = int.from_bytes(hash256(b'my secret'), 'big')\n",
    "\n",
    "pk_e= PublicKey(e)\n",
    "\n",
    "print(pk_e.secret)\n",
    "pk_e.point\n"
   ]
  },
  {
   "cell_type": "code",
   "execution_count": 13,
   "metadata": {},
   "outputs": [
    {
     "name": "stdout",
     "output_type": "stream",
     "text": [
      "Signature(b3113864351866266fcfbcfbafe9fba84b6c9c62d9c4fc9696d1a3f027da873f,f5205993a0b1b5216c30a74628e77eba5f5a5845a76967772fd74748cc35fecc)\n"
     ]
    }
   ],
   "source": [
    "\n",
    "z = int.from_bytes(hash256(b'my message'), 'big')\n",
    "\n",
    "sig = Signature(z,pk_e.secret)\n",
    "print(sig)"
   ]
  },
  {
   "cell_type": "code",
   "execution_count": 14,
   "metadata": {},
   "outputs": [
    {
     "data": {
      "text/plain": [
       "True"
      ]
     },
     "execution_count": 14,
     "metadata": {},
     "output_type": "execute_result"
    }
   ],
   "source": [
    "pk_e.point.verify(z,sig)"
   ]
  }
 ],
 "metadata": {
  "kernelspec": {
   "display_name": "Python 3 (ipykernel)",
   "language": "python",
   "name": "python3"
  },
  "language_info": {
   "codemirror_mode": {
    "name": "ipython",
    "version": 3
   },
   "file_extension": ".py",
   "mimetype": "text/x-python",
   "name": "python",
   "nbconvert_exporter": "python",
   "pygments_lexer": "ipython3",
   "version": "3.12.6"
  }
 },
 "nbformat": 4,
 "nbformat_minor": 2
}
