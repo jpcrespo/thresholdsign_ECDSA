{
 "cells": [
  {
   "cell_type": "code",
   "execution_count": 8,
   "metadata": {},
   "outputs": [],
   "source": [
    "# Inside the app folder we have a script with all the classes, methods and values ​​that bitcoin uses.\n",
    "from app.ecdsa import *\n",
    "\n",
    "\n",
    "# we create a private key from a string, this method is called brainwallet because you can derive the number from a string easy from a human to remember but it is not secure.\n",
    "\n",
    "private_key_btc_wallet = int.from_bytes(hash256(b'This is the example from SEC 595'), 'big')\n",
    "\n",
    "# With the private key we can use the class to create a public key.\n",
    "public_key_btc_wallet= PublicKey(private_key_btc_wallet)\n",
    "\n"
   ]
  },
  {
   "cell_type": "code",
   "execution_count": 15,
   "metadata": {},
   "outputs": [
    {
     "name": "stdout",
     "output_type": "stream",
     "text": [
      "Public Key Secret (Private Key):\n",
      "85126887836841599028887072709097077420231679830502991110362748213461803757421\n",
      "Public Key:\n",
      "S256Point(58f2adb4f18559e3225e587b84a6a8a2c906852f06bccf2c553096421d8f1d5e, c8d64721f5e1091572021c4dc0fe67024d28f3692d6c2a957f5aa9ab6a43a3d5)\n"
     ]
    }
   ],
   "source": [
    "# now the public key has a diferent attriutes:\n",
    "\n",
    "# first we have the private key called secret and it is a large integer from 256 bits.\n",
    "print('Public Key Secret (Private Key):') \n",
    "# we present this number in decimal format\n",
    "print(public_key_btc_wallet.secret)\n",
    "\n",
    "# The public key is derivated from the private key, it is a point in the elliptic curve. This attribute is a Point with (x,y) coordinates.\n",
    "print('Public Key:')\n",
    "print(public_key_btc_wallet.point)\n",
    "\n",
    "# The public key in bitcoin is presented in compressed format, it is a 33 bytes long. With this value we can create the bitcoin address for receiving funds. We don't show this because requires another treatment to be presented.\n"
   ]
  },
  {
   "cell_type": "code",
   "execution_count": 36,
   "metadata": {},
   "outputs": [
    {
     "name": "stdout",
     "output_type": "stream",
     "text": [
      "Signature of a message z, first attemp\n",
      "Signature(5ecb97f86e04ae75bb243311e6081d08d212f51789fe2c0e24a72c36936c059f,33bcd005e40a13ec15bf0651d95dffbe5e4acd85f238d8bead381071be7a4ebb)\n",
      "Signature of a message z, second attemp\n",
      "Signature(ef8ff442b47706d9a9e1ad0bc51660300ddc76a09f6253b63f3fcc8ddee41518,d8c7b02d3181091979727aeba64a929c5c21948afae7bafc5fbf3db9aff5a646)\n",
      "Signature of a message z, thirt attemp\n",
      "Signature(5ecb97f86e04ae75bb243311e6081d08d212f51789fe2c0e24a72c36936c059f,d8c7b02d3181091979727aeba64a929c5c21948afae7bafc5fbf3db9aff5a646)\n"
     ]
    }
   ],
   "source": [
    "# The Signature \n",
    "\n",
    "# We need sign a message with the private key, for this we need the message and the private key.\n",
    "\n",
    "# the message in this case is a string, but it can be any digital data because we hash it.\n",
    "z = int.from_bytes(hash256(b'my message'), 'big')\n",
    "\n",
    "\n",
    "# we create the signature with the private key and the message. Note that the signatue is diferent each time we sign the same message.\n",
    "\n",
    "signature_1= Signature(z,public_key_btc_wallet.secret)\n",
    "#we demonstrate that the signature is different each time we sign the same message.\n",
    "signature_2= Signature(z,public_key_btc_wallet.secret)\n",
    "\n",
    "# the signature has two attributes, r and s. These are the two numbers that are used to verify the signature. Note the change in both values when we sign the same message.\n",
    "print('Signature of a message z, first attemp')\n",
    "print(signature_1)\n",
    "print('Signature of a message z, second attemp')\n",
    "print(signature_2)\n",
    "\n",
    "#supose a fake signature presenting a r for first signature and s for second signature\n",
    "\n",
    "import copy\n",
    "signature_3 = copy.deepcopy(signature_1)\n",
    "signature_3.s = signature_2.s\n",
    "\n",
    "print('Signature of a message z, thirt attemp')\n",
    "print(signature_3)"
   ]
  },
  {
   "cell_type": "code",
   "execution_count": 40,
   "metadata": {},
   "outputs": [
    {
     "name": "stdout",
     "output_type": "stream",
     "text": [
      "Signature 1 is valid: True\n",
      "Signature 2 is valid: True\n",
      "Signature 3 is valid: False\n"
     ]
    }
   ],
   "source": [
    "# Verifiying the signature\n",
    "\n",
    "# The Class point has a method that verify the signature, it needs the message and the signature(r,s). It returns True if the signature is valid, False otherwise.\n",
    "\n",
    "\n",
    "print('Signature 1 is valid:',public_key_btc_wallet.point.verify(z,signature_1))\n",
    "\n",
    "\n",
    "print('Signature 2 is valid:',public_key_btc_wallet.point.verify(z,signature_2))\n",
    "\n",
    "\n",
    "print('Signature 3 is valid:',public_key_btc_wallet.point.verify(z,signature_3))\n",
    "\n",
    "# the first and the second signature are valid, but the third is not valid because the s value is wrong. The values r,s are unique for each signature, so it is not possible to create a valid signature without the private key."
   ]
  }
 ],
 "metadata": {
  "kernelspec": {
   "display_name": "Python 3 (ipykernel)",
   "language": "python",
   "name": "python3"
  }
 },
 "nbformat": 4,
 "nbformat_minor": 2
}
